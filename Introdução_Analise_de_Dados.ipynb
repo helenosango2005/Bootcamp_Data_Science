{
  "cells": [
    {
      "cell_type": "markdown",
      "metadata": {
        "id": "view-in-github",
        "colab_type": "text"
      },
      "source": [
        "<a href=\"https://colab.research.google.com/github/helenosango2005/Google-Colab/blob/main/Introdu%C3%A7%C3%A3o_Analise_de_Dados.ipynb\" target=\"_parent\"><img src=\"https://colab.research.google.com/assets/colab-badge.svg\" alt=\"Open In Colab\"/></a>"
      ]
    },
    {
      "cell_type": "markdown",
      "id": "df306028",
      "metadata": {
        "id": "df306028"
      },
      "source": [
        "# Introdução a Análise de Dados\n",
        "\n",
        "### Como funciona um Projeto de Análise de Dados?\n",
        "\n",
        "Os projetos de Análise de Dados são na verdade Desafios das Empresas\n",
        "\n",
        "### Desafio\n",
        "\n",
        "- Empresa Vende Bermudas\n",
        "- 5 Lojas\n",
        "- Está querendo aumentar as vendas\n",
        "- O que fazer?\n",
        "- Informações Disponíveis: Base de Vendas"
      ]
    },
    {
      "cell_type": "markdown",
      "id": "29acec1f",
      "metadata": {
        "id": "29acec1f"
      },
      "source": [
        "### Passo 1 - Trazer sua base de dados para o Python e ver o que tem nela"
      ]
    },
    {
      "cell_type": "code",
      "execution_count": null,
      "id": "194777c9",
      "metadata": {
        "id": "194777c9"
      },
      "outputs": [],
      "source": []
    },
    {
      "cell_type": "markdown",
      "id": "578672e0",
      "metadata": {
        "id": "578672e0"
      },
      "source": [
        "### Passo 2 - Pegar um panorama geral sobre a sua base de dados"
      ]
    },
    {
      "cell_type": "code",
      "execution_count": null,
      "id": "037ce3ca",
      "metadata": {
        "id": "037ce3ca"
      },
      "outputs": [],
      "source": []
    },
    {
      "cell_type": "markdown",
      "id": "bef847a6",
      "metadata": {
        "id": "bef847a6"
      },
      "source": [
        "### Passo 3 - Começar sua análise Top -> Down"
      ]
    },
    {
      "cell_type": "code",
      "execution_count": null,
      "id": "9a740aa7",
      "metadata": {
        "id": "9a740aa7"
      },
      "outputs": [],
      "source": []
    },
    {
      "cell_type": "markdown",
      "id": "335db628",
      "metadata": {
        "id": "335db628"
      },
      "source": [
        "### Passo 4 - Entrar no detalhe pra entender"
      ]
    },
    {
      "cell_type": "code",
      "execution_count": null,
      "id": "874c99bc",
      "metadata": {
        "id": "874c99bc"
      },
      "outputs": [],
      "source": []
    }
  ],
  "metadata": {
    "kernelspec": {
      "display_name": "Python 3",
      "language": "python",
      "name": "python3"
    },
    "language_info": {
      "codemirror_mode": {
        "name": "ipython",
        "version": 3
      },
      "file_extension": ".py",
      "mimetype": "text/x-python",
      "name": "python",
      "nbconvert_exporter": "python",
      "pygments_lexer": "ipython3",
      "version": "3.8.8"
    },
    "colab": {
      "provenance": [],
      "include_colab_link": true
    }
  },
  "nbformat": 4,
  "nbformat_minor": 5
}